{
 "cells": [
  {
   "cell_type": "markdown",
   "metadata": {},
   "source": [
    "# Test dataset integrity"
   ]
  },
  {
   "cell_type": "code",
   "execution_count": 1,
   "metadata": {},
   "outputs": [],
   "source": [
    "import pandas as pd\n",
    "import numpy as np\n",
    "import os\n",
    "import matplotlib.pyplot as plt\n",
    "from PIL import Image"
   ]
  },
  {
   "cell_type": "markdown",
   "metadata": {},
   "source": [
    "### Configuration path"
   ]
  },
  {
   "cell_type": "code",
   "execution_count": 2,
   "metadata": {},
   "outputs": [],
   "source": [
    "path = os.getcwd() \n",
    "BASE_PATH = os.path.dirname(path) \n",
    "DATASET_PATH = os.path.join(BASE_PATH, 'datasets')\n",
    "DATASET_IMPRESSIONISM_PATH = os.path.join(DATASET_PATH, 'dataset_impressionism')"
   ]
  },
  {
   "cell_type": "markdown",
   "metadata": {},
   "source": [
    "### Load data"
   ]
  },
  {
   "cell_type": "code",
   "execution_count": 3,
   "metadata": {},
   "outputs": [
    {
     "data": {
      "text/html": [
       "<div>\n",
       "<style scoped>\n",
       "    .dataframe tbody tr th:only-of-type {\n",
       "        vertical-align: middle;\n",
       "    }\n",
       "\n",
       "    .dataframe tbody tr th {\n",
       "        vertical-align: top;\n",
       "    }\n",
       "\n",
       "    .dataframe thead th {\n",
       "        text-align: right;\n",
       "    }\n",
       "</style>\n",
       "<table border=\"1\" class=\"dataframe\">\n",
       "  <thead>\n",
       "    <tr style=\"text-align: right;\">\n",
       "      <th></th>\n",
       "      <th>artist</th>\n",
       "      <th>date</th>\n",
       "      <th>genre</th>\n",
       "      <th>pixelsx</th>\n",
       "      <th>pixelsy</th>\n",
       "      <th>size_bytes</th>\n",
       "      <th>source</th>\n",
       "      <th>style</th>\n",
       "      <th>title</th>\n",
       "      <th>artist_group</th>\n",
       "      <th>in_train</th>\n",
       "      <th>new_filename</th>\n",
       "      <th>label</th>\n",
       "    </tr>\n",
       "  </thead>\n",
       "  <tbody>\n",
       "    <tr>\n",
       "      <th>0</th>\n",
       "      <td>Edgar Degas</td>\n",
       "      <td>1869</td>\n",
       "      <td>interior</td>\n",
       "      <td>5382.0</td>\n",
       "      <td>3349.0</td>\n",
       "      <td>1824204.0</td>\n",
       "      <td>wikiart</td>\n",
       "      <td>Impressionism</td>\n",
       "      <td>Interior (The Rape)</td>\n",
       "      <td>train_and_test</td>\n",
       "      <td>True</td>\n",
       "      <td>95360.jpg</td>\n",
       "      <td>44</td>\n",
       "    </tr>\n",
       "    <tr>\n",
       "      <th>1</th>\n",
       "      <td>Claude Monet</td>\n",
       "      <td>1883</td>\n",
       "      <td>landscape</td>\n",
       "      <td>4540.0</td>\n",
       "      <td>3611.0</td>\n",
       "      <td>4873803.0</td>\n",
       "      <td>wikiart</td>\n",
       "      <td>Impressionism</td>\n",
       "      <td>The Manneport, Rock Arch West of Etretat</td>\n",
       "      <td>train_and_test</td>\n",
       "      <td>True</td>\n",
       "      <td>49757.jpg</td>\n",
       "      <td>44</td>\n",
       "    </tr>\n",
       "    <tr>\n",
       "      <th>2</th>\n",
       "      <td>Paul Signac</td>\n",
       "      <td>c.1923</td>\n",
       "      <td>cityscape</td>\n",
       "      <td>4464.0</td>\n",
       "      <td>3600.0</td>\n",
       "      <td>8730590.0</td>\n",
       "      <td>wikiart</td>\n",
       "      <td>Impressionism</td>\n",
       "      <td>Rodez</td>\n",
       "      <td>train_and_test</td>\n",
       "      <td>True</td>\n",
       "      <td>53841.jpg</td>\n",
       "      <td>44</td>\n",
       "    </tr>\n",
       "    <tr>\n",
       "      <th>3</th>\n",
       "      <td>Paul Signac</td>\n",
       "      <td>c.1922</td>\n",
       "      <td>landscape</td>\n",
       "      <td>4470.0</td>\n",
       "      <td>3348.0</td>\n",
       "      <td>8710775.0</td>\n",
       "      <td>wikiart</td>\n",
       "      <td>Impressionism</td>\n",
       "      <td>The Look at Montauban in rain</td>\n",
       "      <td>train_and_test</td>\n",
       "      <td>True</td>\n",
       "      <td>81912.jpg</td>\n",
       "      <td>44</td>\n",
       "    </tr>\n",
       "    <tr>\n",
       "      <th>4</th>\n",
       "      <td>Ferdinand Hodler</td>\n",
       "      <td>1882</td>\n",
       "      <td>genre painting</td>\n",
       "      <td>3240.0</td>\n",
       "      <td>4548.0</td>\n",
       "      <td>9477034.0</td>\n",
       "      <td>wikiart</td>\n",
       "      <td>Impressionism</td>\n",
       "      <td>Prayer in the Saint Pierre Cathedral in Geneva</td>\n",
       "      <td>train_and_test</td>\n",
       "      <td>True</td>\n",
       "      <td>17146.jpg</td>\n",
       "      <td>44</td>\n",
       "    </tr>\n",
       "  </tbody>\n",
       "</table>\n",
       "</div>"
      ],
      "text/plain": [
       "             artist    date           genre  pixelsx  pixelsy  size_bytes  \\\n",
       "0       Edgar Degas    1869        interior   5382.0   3349.0   1824204.0   \n",
       "1      Claude Monet    1883       landscape   4540.0   3611.0   4873803.0   \n",
       "2       Paul Signac  c.1923       cityscape   4464.0   3600.0   8730590.0   \n",
       "3       Paul Signac  c.1922       landscape   4470.0   3348.0   8710775.0   \n",
       "4  Ferdinand Hodler    1882  genre painting   3240.0   4548.0   9477034.0   \n",
       "\n",
       "    source          style                                           title  \\\n",
       "0  wikiart  Impressionism                             Interior (The Rape)   \n",
       "1  wikiart  Impressionism        The Manneport, Rock Arch West of Etretat   \n",
       "2  wikiart  Impressionism                                           Rodez   \n",
       "3  wikiart  Impressionism                   The Look at Montauban in rain   \n",
       "4  wikiart  Impressionism  Prayer in the Saint Pierre Cathedral in Geneva   \n",
       "\n",
       "     artist_group  in_train new_filename  label  \n",
       "0  train_and_test      True    95360.jpg     44  \n",
       "1  train_and_test      True    49757.jpg     44  \n",
       "2  train_and_test      True    53841.jpg     44  \n",
       "3  train_and_test      True    81912.jpg     44  \n",
       "4  train_and_test      True    17146.jpg     44  "
      ]
     },
     "execution_count": 3,
     "metadata": {},
     "output_type": "execute_result"
    }
   ],
   "source": [
    "metadata = pd.read_csv(os.path.join(DATASET_IMPRESSIONISM_PATH, 'metadata.csv'))\n",
    "metadata.head()"
   ]
  },
  {
   "cell_type": "code",
   "execution_count": 4,
   "metadata": {},
   "outputs": [
    {
     "data": {
      "text/plain": [
       "(8220, 13)"
      ]
     },
     "execution_count": 4,
     "metadata": {},
     "output_type": "execute_result"
    }
   ],
   "source": [
    "metadata.shape"
   ]
  },
  {
   "cell_type": "markdown",
   "metadata": {},
   "source": [
    "### Check if path exists"
   ]
  },
  {
   "cell_type": "code",
   "execution_count": 10,
   "metadata": {},
   "outputs": [
    {
     "name": "stdout",
     "output_type": "stream",
     "text": [
      "(128, 128, 3)\n",
      "1\n",
      "255\n"
     ]
    }
   ],
   "source": [
    "corrupt_path_lsit = []\n",
    "for index, row in metadata.iterrows():\n",
    "    img_filename = metadata['new_filename'][index]\n",
    "    img_path = os.path.join(DATASET_IMPRESSIONISM_PATH, metadata['new_filename'][index])\n",
    "    img = Image.open( img_path )\n",
    "    img.load()\n",
    "    data = np.asarray( img, dtype=\"int32\" )\n",
    "    print(data.shape)\n",
    "    print(np.min(data))\n",
    "    print(np.max(data))\n",
    "    if not os.path.exists(img_path):\n",
    "        corrupt_path_lsit.append(img_path)\n",
    "        \n",
    "    break"
   ]
  },
  {
   "cell_type": "code",
   "execution_count": 6,
   "metadata": {},
   "outputs": [
    {
     "data": {
      "text/plain": [
       "[]"
      ]
     },
     "execution_count": 6,
     "metadata": {},
     "output_type": "execute_result"
    }
   ],
   "source": [
    "corrupt_path_lsit"
   ]
  },
  {
   "cell_type": "code",
   "execution_count": 11,
   "metadata": {},
   "outputs": [
    {
     "data": {
      "text/plain": [
       "(128, 128, 3)"
      ]
     },
     "execution_count": 11,
     "metadata": {},
     "output_type": "execute_result"
    }
   ],
   "source": [
    "np.random.randint(1, 255, (128,128,3)).shape"
   ]
  }
 ],
 "metadata": {
  "kernelspec": {
   "display_name": "Python 3",
   "language": "python",
   "name": "python3"
  },
  "language_info": {
   "codemirror_mode": {
    "name": "ipython",
    "version": 3
   },
   "file_extension": ".py",
   "mimetype": "text/x-python",
   "name": "python",
   "nbconvert_exporter": "python",
   "pygments_lexer": "ipython3",
   "version": "3.5.2"
  }
 },
 "nbformat": 4,
 "nbformat_minor": 2
}
